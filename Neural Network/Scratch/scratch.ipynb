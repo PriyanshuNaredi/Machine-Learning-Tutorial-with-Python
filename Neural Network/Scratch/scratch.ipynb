{
 "cells": [
  {
   "cell_type": "code",
   "execution_count": 65,
   "metadata": {},
   "outputs": [],
   "source": [
    "import numpy as np\n",
    "import pandas as pd\n",
    "from matplotlib import pyplot as plt"
   ]
  },
  {
   "cell_type": "code",
   "execution_count": 66,
   "metadata": {},
   "outputs": [],
   "source": [
    "data = pd.read_csv(\"train.csv\")"
   ]
  },
  {
   "cell_type": "code",
   "execution_count": 67,
   "metadata": {},
   "outputs": [
    {
     "data": {
      "text/html": [
       "<div>\n",
       "<style scoped>\n",
       "    .dataframe tbody tr th:only-of-type {\n",
       "        vertical-align: middle;\n",
       "    }\n",
       "\n",
       "    .dataframe tbody tr th {\n",
       "        vertical-align: top;\n",
       "    }\n",
       "\n",
       "    .dataframe thead th {\n",
       "        text-align: right;\n",
       "    }\n",
       "</style>\n",
       "<table border=\"1\" class=\"dataframe\">\n",
       "  <thead>\n",
       "    <tr style=\"text-align: right;\">\n",
       "      <th></th>\n",
       "      <th>label</th>\n",
       "      <th>pixel0</th>\n",
       "      <th>pixel1</th>\n",
       "      <th>pixel2</th>\n",
       "      <th>pixel3</th>\n",
       "      <th>pixel4</th>\n",
       "      <th>pixel5</th>\n",
       "      <th>pixel6</th>\n",
       "      <th>pixel7</th>\n",
       "      <th>pixel8</th>\n",
       "      <th>...</th>\n",
       "      <th>pixel774</th>\n",
       "      <th>pixel775</th>\n",
       "      <th>pixel776</th>\n",
       "      <th>pixel777</th>\n",
       "      <th>pixel778</th>\n",
       "      <th>pixel779</th>\n",
       "      <th>pixel780</th>\n",
       "      <th>pixel781</th>\n",
       "      <th>pixel782</th>\n",
       "      <th>pixel783</th>\n",
       "    </tr>\n",
       "  </thead>\n",
       "  <tbody>\n",
       "    <tr>\n",
       "      <th>0</th>\n",
       "      <td>1</td>\n",
       "      <td>0</td>\n",
       "      <td>0</td>\n",
       "      <td>0</td>\n",
       "      <td>0</td>\n",
       "      <td>0</td>\n",
       "      <td>0</td>\n",
       "      <td>0</td>\n",
       "      <td>0</td>\n",
       "      <td>0</td>\n",
       "      <td>...</td>\n",
       "      <td>0</td>\n",
       "      <td>0</td>\n",
       "      <td>0</td>\n",
       "      <td>0</td>\n",
       "      <td>0</td>\n",
       "      <td>0</td>\n",
       "      <td>0</td>\n",
       "      <td>0</td>\n",
       "      <td>0</td>\n",
       "      <td>0</td>\n",
       "    </tr>\n",
       "    <tr>\n",
       "      <th>1</th>\n",
       "      <td>0</td>\n",
       "      <td>0</td>\n",
       "      <td>0</td>\n",
       "      <td>0</td>\n",
       "      <td>0</td>\n",
       "      <td>0</td>\n",
       "      <td>0</td>\n",
       "      <td>0</td>\n",
       "      <td>0</td>\n",
       "      <td>0</td>\n",
       "      <td>...</td>\n",
       "      <td>0</td>\n",
       "      <td>0</td>\n",
       "      <td>0</td>\n",
       "      <td>0</td>\n",
       "      <td>0</td>\n",
       "      <td>0</td>\n",
       "      <td>0</td>\n",
       "      <td>0</td>\n",
       "      <td>0</td>\n",
       "      <td>0</td>\n",
       "    </tr>\n",
       "    <tr>\n",
       "      <th>2</th>\n",
       "      <td>1</td>\n",
       "      <td>0</td>\n",
       "      <td>0</td>\n",
       "      <td>0</td>\n",
       "      <td>0</td>\n",
       "      <td>0</td>\n",
       "      <td>0</td>\n",
       "      <td>0</td>\n",
       "      <td>0</td>\n",
       "      <td>0</td>\n",
       "      <td>...</td>\n",
       "      <td>0</td>\n",
       "      <td>0</td>\n",
       "      <td>0</td>\n",
       "      <td>0</td>\n",
       "      <td>0</td>\n",
       "      <td>0</td>\n",
       "      <td>0</td>\n",
       "      <td>0</td>\n",
       "      <td>0</td>\n",
       "      <td>0</td>\n",
       "    </tr>\n",
       "    <tr>\n",
       "      <th>3</th>\n",
       "      <td>4</td>\n",
       "      <td>0</td>\n",
       "      <td>0</td>\n",
       "      <td>0</td>\n",
       "      <td>0</td>\n",
       "      <td>0</td>\n",
       "      <td>0</td>\n",
       "      <td>0</td>\n",
       "      <td>0</td>\n",
       "      <td>0</td>\n",
       "      <td>...</td>\n",
       "      <td>0</td>\n",
       "      <td>0</td>\n",
       "      <td>0</td>\n",
       "      <td>0</td>\n",
       "      <td>0</td>\n",
       "      <td>0</td>\n",
       "      <td>0</td>\n",
       "      <td>0</td>\n",
       "      <td>0</td>\n",
       "      <td>0</td>\n",
       "    </tr>\n",
       "    <tr>\n",
       "      <th>4</th>\n",
       "      <td>0</td>\n",
       "      <td>0</td>\n",
       "      <td>0</td>\n",
       "      <td>0</td>\n",
       "      <td>0</td>\n",
       "      <td>0</td>\n",
       "      <td>0</td>\n",
       "      <td>0</td>\n",
       "      <td>0</td>\n",
       "      <td>0</td>\n",
       "      <td>...</td>\n",
       "      <td>0</td>\n",
       "      <td>0</td>\n",
       "      <td>0</td>\n",
       "      <td>0</td>\n",
       "      <td>0</td>\n",
       "      <td>0</td>\n",
       "      <td>0</td>\n",
       "      <td>0</td>\n",
       "      <td>0</td>\n",
       "      <td>0</td>\n",
       "    </tr>\n",
       "  </tbody>\n",
       "</table>\n",
       "<p>5 rows × 785 columns</p>\n",
       "</div>"
      ],
      "text/plain": [
       "   label  pixel0  pixel1  pixel2  pixel3  pixel4  pixel5  pixel6  pixel7  \\\n",
       "0      1       0       0       0       0       0       0       0       0   \n",
       "1      0       0       0       0       0       0       0       0       0   \n",
       "2      1       0       0       0       0       0       0       0       0   \n",
       "3      4       0       0       0       0       0       0       0       0   \n",
       "4      0       0       0       0       0       0       0       0       0   \n",
       "\n",
       "   pixel8  ...  pixel774  pixel775  pixel776  pixel777  pixel778  pixel779  \\\n",
       "0       0  ...         0         0         0         0         0         0   \n",
       "1       0  ...         0         0         0         0         0         0   \n",
       "2       0  ...         0         0         0         0         0         0   \n",
       "3       0  ...         0         0         0         0         0         0   \n",
       "4       0  ...         0         0         0         0         0         0   \n",
       "\n",
       "   pixel780  pixel781  pixel782  pixel783  \n",
       "0         0         0         0         0  \n",
       "1         0         0         0         0  \n",
       "2         0         0         0         0  \n",
       "3         0         0         0         0  \n",
       "4         0         0         0         0  \n",
       "\n",
       "[5 rows x 785 columns]"
      ]
     },
     "execution_count": 67,
     "metadata": {},
     "output_type": "execute_result"
    }
   ],
   "source": [
    "data.head()"
   ]
  },
  {
   "cell_type": "code",
   "execution_count": 68,
   "metadata": {},
   "outputs": [],
   "source": [
    "data = np.array(data)\n",
    "m,n = data.shape\n",
    "np.random.shuffle(data)"
   ]
  },
  {
   "cell_type": "code",
   "execution_count": 69,
   "metadata": {},
   "outputs": [],
   "source": [
    "data_dev = data[0:1000].T # thousand examples of 28 by 28 image "
   ]
  },
  {
   "cell_type": "code",
   "execution_count": 70,
   "metadata": {},
   "outputs": [
    {
     "data": {
      "text/plain": [
       "array([[0, 4, 8, ..., 4, 2, 3],\n",
       "       [0, 0, 0, ..., 0, 0, 0],\n",
       "       [0, 0, 0, ..., 0, 0, 0],\n",
       "       ...,\n",
       "       [0, 0, 0, ..., 0, 0, 0],\n",
       "       [0, 0, 0, ..., 0, 0, 0],\n",
       "       [0, 0, 0, ..., 0, 0, 0]], dtype=int64)"
      ]
     },
     "execution_count": 70,
     "metadata": {},
     "output_type": "execute_result"
    }
   ],
   "source": [
    "data_dev"
   ]
  },
  {
   "cell_type": "code",
   "execution_count": 71,
   "metadata": {},
   "outputs": [],
   "source": [
    "Y_dev = data_dev[0]\n",
    "X_dev = data_dev[1:n]\n",
    "X_dev = X_dev / 255."
   ]
  },
  {
   "cell_type": "code",
   "execution_count": 72,
   "metadata": {},
   "outputs": [],
   "source": [
    "data_train = data[1000:m].T\n",
    "Y_train = data_train[0]\n",
    "X_train = data_train[1:n]\n",
    "X_train = X_train / 255.\n",
    "_,m_train = X_train.shape"
   ]
  },
  {
   "cell_type": "code",
   "execution_count": 73,
   "metadata": {},
   "outputs": [
    {
     "data": {
      "text/plain": [
       "array([1, 3, 2, ..., 1, 7, 6], dtype=int64)"
      ]
     },
     "execution_count": 73,
     "metadata": {},
     "output_type": "execute_result"
    }
   ],
   "source": [
    "Y_train"
   ]
  },
  {
   "cell_type": "code",
   "execution_count": 74,
   "metadata": {},
   "outputs": [
    {
     "data": {
      "text/plain": [
       "(784,)"
      ]
     },
     "execution_count": 74,
     "metadata": {},
     "output_type": "execute_result"
    }
   ],
   "source": [
    "X_train[:,0].shape"
   ]
  },
  {
   "cell_type": "code",
   "execution_count": 75,
   "metadata": {},
   "outputs": [
    {
     "data": {
      "text/plain": [
       "array([0.        , 0.        , 0.        , 0.        , 0.        ,\n",
       "       0.        , 0.        , 0.        , 0.        , 0.        ,\n",
       "       0.        , 0.        , 0.        , 0.        , 0.        ,\n",
       "       0.        , 0.        , 0.        , 0.        , 0.        ,\n",
       "       0.        , 0.        , 0.        , 0.        , 0.        ,\n",
       "       0.        , 0.        , 0.        , 0.        , 0.        ,\n",
       "       0.        , 0.        , 0.        , 0.        , 0.        ,\n",
       "       0.        , 0.        , 0.        , 0.        , 0.        ,\n",
       "       0.        , 0.        , 0.        , 0.        , 0.        ,\n",
       "       0.        , 0.        , 0.        , 0.        , 0.        ,\n",
       "       0.        , 0.        , 0.        , 0.        , 0.        ,\n",
       "       0.        , 0.        , 0.        , 0.        , 0.        ,\n",
       "       0.        , 0.        , 0.        , 0.        , 0.        ,\n",
       "       0.        , 0.        , 0.        , 0.        , 0.        ,\n",
       "       0.        , 0.        , 0.        , 0.        , 0.        ,\n",
       "       0.        , 0.        , 0.        , 0.        , 0.        ,\n",
       "       0.        , 0.        , 0.        , 0.        , 0.        ,\n",
       "       0.        , 0.        , 0.        , 0.        , 0.        ,\n",
       "       0.        , 0.        , 0.        , 0.        , 0.        ,\n",
       "       0.        , 0.        , 0.        , 0.        , 0.        ,\n",
       "       0.        , 0.        , 0.        , 0.        , 0.        ,\n",
       "       0.        , 0.        , 0.        , 0.        , 0.        ,\n",
       "       0.        , 0.        , 0.        , 0.        , 0.        ,\n",
       "       0.        , 0.        , 0.        , 0.        , 0.        ,\n",
       "       0.        , 0.        , 0.        , 0.        , 0.        ,\n",
       "       0.        , 0.        , 0.        , 0.        , 0.        ,\n",
       "       0.        , 0.        , 0.        , 0.        , 0.        ,\n",
       "       0.        , 0.        , 0.        , 0.        , 0.        ,\n",
       "       0.        , 0.        , 0.        , 0.        , 0.        ,\n",
       "       0.        , 0.        , 0.        , 0.        , 0.        ,\n",
       "       0.        , 0.        , 0.        , 0.2627451 , 0.76078431,\n",
       "       1.        , 0.47843137, 0.05882353, 0.        , 0.        ,\n",
       "       0.        , 0.        , 0.        , 0.        , 0.        ,\n",
       "       0.        , 0.        , 0.        , 0.        , 0.        ,\n",
       "       0.        , 0.        , 0.        , 0.        , 0.        ,\n",
       "       0.        , 0.        , 0.        , 0.        , 0.        ,\n",
       "       0.39215686, 0.97647059, 0.99215686, 0.99607843, 0.99215686,\n",
       "       0.21960784, 0.        , 0.        , 0.        , 0.        ,\n",
       "       0.        , 0.        , 0.        , 0.        , 0.        ,\n",
       "       0.        , 0.        , 0.        , 0.        , 0.        ,\n",
       "       0.        , 0.        , 0.        , 0.        , 0.        ,\n",
       "       0.        , 0.        , 0.        , 0.60392157, 0.99215686,\n",
       "       0.99215686, 0.99607843, 0.99215686, 0.21960784, 0.        ,\n",
       "       0.        , 0.        , 0.        , 0.        , 0.        ,\n",
       "       0.        , 0.        , 0.        , 0.        , 0.        ,\n",
       "       0.        , 0.        , 0.        , 0.        , 0.        ,\n",
       "       0.        , 0.        , 0.        , 0.        , 0.        ,\n",
       "       0.        , 0.95686275, 0.99215686, 0.99215686, 0.99607843,\n",
       "       0.99215686, 0.21960784, 0.        , 0.        , 0.        ,\n",
       "       0.        , 0.        , 0.        , 0.        , 0.        ,\n",
       "       0.        , 0.        , 0.        , 0.        , 0.        ,\n",
       "       0.        , 0.        , 0.        , 0.        , 0.        ,\n",
       "       0.        , 0.        , 0.        , 0.        , 0.95686275,\n",
       "       0.99215686, 0.99215686, 0.99607843, 0.99215686, 0.21960784,\n",
       "       0.        , 0.        , 0.        , 0.        , 0.        ,\n",
       "       0.        , 0.        , 0.        , 0.        , 0.        ,\n",
       "       0.        , 0.        , 0.        , 0.        , 0.        ,\n",
       "       0.        , 0.        , 0.        , 0.        , 0.        ,\n",
       "       0.        , 0.        , 0.62745098, 0.99215686, 0.99215686,\n",
       "       0.99607843, 0.99215686, 0.51764706, 0.        , 0.        ,\n",
       "       0.        , 0.        , 0.        , 0.        , 0.        ,\n",
       "       0.        , 0.        , 0.        , 0.        , 0.        ,\n",
       "       0.        , 0.        , 0.        , 0.        , 0.        ,\n",
       "       0.        , 0.        , 0.        , 0.        , 0.        ,\n",
       "       0.48235294, 0.99215686, 0.99215686, 0.99607843, 0.99215686,\n",
       "       0.58431373, 0.        , 0.        , 0.        , 0.        ,\n",
       "       0.        , 0.        , 0.        , 0.        , 0.        ,\n",
       "       0.        , 0.        , 0.        , 0.        , 0.        ,\n",
       "       0.        , 0.        , 0.        , 0.        , 0.        ,\n",
       "       0.        , 0.        , 0.        , 0.23529412, 0.99215686,\n",
       "       0.99215686, 0.99607843, 0.99215686, 0.58431373, 0.        ,\n",
       "       0.        , 0.        , 0.        , 0.        , 0.        ,\n",
       "       0.        , 0.        , 0.        , 0.        , 0.        ,\n",
       "       0.        , 0.        , 0.        , 0.        , 0.        ,\n",
       "       0.        , 0.        , 0.        , 0.        , 0.        ,\n",
       "       0.        , 0.22352941, 0.75686275, 0.99215686, 0.99607843,\n",
       "       0.99215686, 0.58431373, 0.        , 0.        , 0.        ,\n",
       "       0.        , 0.        , 0.        , 0.        , 0.        ,\n",
       "       0.        , 0.        , 0.        , 0.        , 0.        ,\n",
       "       0.        , 0.        , 0.        , 0.        , 0.        ,\n",
       "       0.        , 0.        , 0.        , 0.        , 0.95686275,\n",
       "       0.62352941, 0.99215686, 0.99607843, 0.99215686, 0.58431373,\n",
       "       0.        , 0.        , 0.        , 0.        , 0.        ,\n",
       "       0.        , 0.        , 0.        , 0.        , 0.        ,\n",
       "       0.        , 0.        , 0.        , 0.        , 0.        ,\n",
       "       0.        , 0.        , 0.        , 0.        , 0.        ,\n",
       "       0.        , 0.        , 0.22352941, 0.72156863, 0.99607843,\n",
       "       1.        , 0.99607843, 0.35686275, 0.        , 0.        ,\n",
       "       0.        , 0.        , 0.        , 0.        , 0.        ,\n",
       "       0.        , 0.        , 0.        , 0.        , 0.        ,\n",
       "       0.        , 0.        , 0.        , 0.        , 0.        ,\n",
       "       0.        , 0.        , 0.        , 0.        , 0.        ,\n",
       "       0.22352941, 0.99215686, 0.99215686, 0.99607843, 0.99215686,\n",
       "       0.54509804, 0.        , 0.        , 0.        , 0.        ,\n",
       "       0.        , 0.        , 0.        , 0.        , 0.        ,\n",
       "       0.        , 0.        , 0.        , 0.        , 0.        ,\n",
       "       0.        , 0.        , 0.        , 0.        , 0.        ,\n",
       "       0.        , 0.        , 0.        , 0.37254902, 0.99215686,\n",
       "       0.99215686, 0.99607843, 0.99215686, 0.58431373, 0.        ,\n",
       "       0.        , 0.        , 0.        , 0.        , 0.        ,\n",
       "       0.        , 0.        , 0.        , 0.        , 0.        ,\n",
       "       0.        , 0.        , 0.        , 0.        , 0.        ,\n",
       "       0.        , 0.        , 0.        , 0.        , 0.        ,\n",
       "       0.        , 0.48235294, 0.99215686, 0.99215686, 0.99607843,\n",
       "       0.99215686, 0.58431373, 0.        , 0.        , 0.        ,\n",
       "       0.        , 0.        , 0.        , 0.        , 0.        ,\n",
       "       0.        , 0.        , 0.        , 0.        , 0.        ,\n",
       "       0.        , 0.        , 0.        , 0.        , 0.        ,\n",
       "       0.        , 0.        , 0.        , 0.        , 0.69803922,\n",
       "       0.99215686, 0.99215686, 0.99607843, 0.96470588, 0.34117647,\n",
       "       0.        , 0.        , 0.        , 0.        , 0.        ,\n",
       "       0.        , 0.        , 0.        , 0.        , 0.        ,\n",
       "       0.        , 0.        , 0.        , 0.        , 0.        ,\n",
       "       0.        , 0.        , 0.        , 0.        , 0.        ,\n",
       "       0.        , 0.        , 0.56078431, 0.99215686, 0.99215686,\n",
       "       0.94901961, 0.50588235, 0.        , 0.        , 0.        ,\n",
       "       0.        , 0.        , 0.        , 0.        , 0.        ,\n",
       "       0.        , 0.        , 0.        , 0.        , 0.        ,\n",
       "       0.        , 0.        , 0.        , 0.        , 0.        ,\n",
       "       0.        , 0.        , 0.        , 0.        , 0.        ,\n",
       "       0.48235294, 0.72941176, 0.99215686, 0.10980392, 0.        ,\n",
       "       0.        , 0.        , 0.        , 0.        , 0.        ,\n",
       "       0.        , 0.        , 0.        , 0.        , 0.        ,\n",
       "       0.        , 0.        , 0.        , 0.        , 0.        ,\n",
       "       0.        , 0.        , 0.        , 0.        , 0.        ,\n",
       "       0.        , 0.        , 0.        , 0.53333333, 0.97647059,\n",
       "       0.63529412, 0.        , 0.        , 0.        , 0.        ,\n",
       "       0.        , 0.        , 0.        , 0.        , 0.        ,\n",
       "       0.        , 0.        , 0.        , 0.        , 0.        ,\n",
       "       0.        , 0.        , 0.        , 0.        , 0.        ,\n",
       "       0.        , 0.        , 0.        , 0.        , 0.        ,\n",
       "       0.        , 0.91764706, 0.97647059, 0.59215686, 0.        ,\n",
       "       0.        , 0.        , 0.        , 0.        , 0.        ,\n",
       "       0.        , 0.        , 0.        , 0.        , 0.        ,\n",
       "       0.        , 0.        , 0.        , 0.        , 0.        ,\n",
       "       0.        , 0.        , 0.        , 0.        , 0.        ,\n",
       "       0.        , 0.        , 0.        , 0.        , 0.7254902 ,\n",
       "       0.47058824, 0.09803922, 0.        , 0.        , 0.        ,\n",
       "       0.        , 0.        , 0.        , 0.        , 0.        ,\n",
       "       0.        , 0.        , 0.        , 0.        , 0.        ,\n",
       "       0.        , 0.        , 0.        , 0.        , 0.        ,\n",
       "       0.        , 0.        , 0.        , 0.        , 0.        ,\n",
       "       0.        , 0.        , 0.        , 0.        , 0.        ,\n",
       "       0.        , 0.        , 0.        , 0.        , 0.        ,\n",
       "       0.        , 0.        , 0.        , 0.        , 0.        ,\n",
       "       0.        , 0.        , 0.        , 0.        , 0.        ,\n",
       "       0.        , 0.        , 0.        , 0.        , 0.        ,\n",
       "       0.        , 0.        , 0.        , 0.        , 0.        ,\n",
       "       0.        , 0.        , 0.        , 0.        , 0.        ,\n",
       "       0.        , 0.        , 0.        , 0.        , 0.        ,\n",
       "       0.        , 0.        , 0.        , 0.        , 0.        ,\n",
       "       0.        , 0.        , 0.        , 0.        , 0.        ,\n",
       "       0.        , 0.        , 0.        , 0.        , 0.        ,\n",
       "       0.        , 0.        , 0.        , 0.        , 0.        ,\n",
       "       0.        , 0.        , 0.        , 0.        , 0.        ,\n",
       "       0.        , 0.        , 0.        , 0.        , 0.        ,\n",
       "       0.        , 0.        , 0.        , 0.        ])"
      ]
     },
     "execution_count": 75,
     "metadata": {},
     "output_type": "execute_result"
    }
   ],
   "source": [
    "X_train[:,0]"
   ]
  },
  {
   "cell_type": "code",
   "execution_count": 76,
   "metadata": {},
   "outputs": [
    {
     "data": {
      "text/plain": [
       "array([[ 0.45631392, -0.30792469],\n",
       "       [-0.32729495,  0.20259382],\n",
       "       [ 0.4938694 , -0.24141145]])"
      ]
     },
     "execution_count": 76,
     "metadata": {},
     "output_type": "execute_result"
    }
   ],
   "source": [
    "np.random.rand(3, 2) - 0.5"
   ]
  },
  {
   "cell_type": "code",
   "execution_count": 77,
   "metadata": {},
   "outputs": [],
   "source": [
    "def init_params():\n",
    "    W1 = np.random.rand(10, 784) - 0.5\n",
    "    b1 = np.random.rand(10, 1) - 0.5\n",
    "    W2 = np.random.rand(10, 10) - 0.5\n",
    "    b2 = np.random.rand(10, 1) - 0.5\n",
    "    return W1, b1, W2, b2"
   ]
  },
  {
   "cell_type": "code",
   "execution_count": 78,
   "metadata": {},
   "outputs": [],
   "source": [
    "def ReLU(Z):\n",
    "    return np.maximum(Z, 0)"
   ]
  },
  {
   "cell_type": "code",
   "execution_count": 79,
   "metadata": {},
   "outputs": [],
   "source": [
    "def softmax(Z):\n",
    "    A = np.exp(Z) / sum(np.exp(Z))\n",
    "    return A"
   ]
  },
  {
   "cell_type": "code",
   "execution_count": 80,
   "metadata": {},
   "outputs": [],
   "source": [
    "def forward_prop(W1, b1, W2, b2, X):\n",
    "    Z1 = W1.dot(X) + b1\n",
    "    A1 = ReLU(Z1)\n",
    "    Z2 = W2.dot(A1) + b2\n",
    "    A2 = softmax(Z2)\n",
    "    return Z1, A1, Z2, A2"
   ]
  },
  {
   "cell_type": "markdown",
   "metadata": {},
   "source": [
    "2) Backward Propagation"
   ]
  },
  {
   "cell_type": "code",
   "execution_count": 81,
   "metadata": {},
   "outputs": [],
   "source": [
    "def ReLU_deriv(Z):\n",
    "    return Z > 0"
   ]
  },
  {
   "cell_type": "code",
   "execution_count": 82,
   "metadata": {},
   "outputs": [],
   "source": [
    "def one_hot(Y):\n",
    "    # print(Y.size, Y.max()) ---output----> 41000 9\n",
    "    one_hot_Y = np.zeros((Y.size, Y.max() + 1))\n",
    "    one_hot_Y[np.arange(Y.size), Y] = 1\n",
    "    one_hot_Y = one_hot_Y.T\n",
    "    return one_hot_Y"
   ]
  },
  {
   "cell_type": "code",
   "execution_count": 83,
   "metadata": {},
   "outputs": [],
   "source": [
    "def backward_prop(Z1, A1, Z2, A2, W1, W2, X, Y):\n",
    "    one_hot_Y = one_hot(Y)\n",
    "    dZ2 = A2 - one_hot_Y\n",
    "    dW2 = 1 / m * dZ2.dot(A1.T)\n",
    "    db2 = 1 / m * np.sum(dZ2)\n",
    "    dZ1 = W2.T.dot(dZ2) * ReLU_deriv(Z1)\n",
    "    dW1 = 1 / m * dZ1.dot(X.T)\n",
    "    db1 = 1 / m * np.sum(dZ1)\n",
    "    return dW1, db1, dW2, db2"
   ]
  },
  {
   "cell_type": "code",
   "execution_count": 84,
   "metadata": {},
   "outputs": [],
   "source": [
    "def update_params(W1, b1, W2, b2, dW1, db1, dW2, db2, alpha):\n",
    "    W1 = W1 - alpha * dW1\n",
    "    b1 = b1 - alpha * db1    \n",
    "    W2 = W2 - alpha * dW2  \n",
    "    b2 = b2 - alpha * db2    \n",
    "    return W1, b1, W2, b2"
   ]
  },
  {
   "cell_type": "code",
   "execution_count": 85,
   "metadata": {},
   "outputs": [],
   "source": [
    "def get_predictions(A2):\n",
    "    return np.argmax(A2, 0)"
   ]
  },
  {
   "cell_type": "code",
   "execution_count": 86,
   "metadata": {},
   "outputs": [],
   "source": [
    "def get_accuracy(predictions, Y):\n",
    "    print(predictions, Y)\n",
    "    return np.sum(predictions == Y) / Y.size"
   ]
  },
  {
   "cell_type": "code",
   "execution_count": 87,
   "metadata": {},
   "outputs": [],
   "source": [
    "def gradient_descent(X, Y, alpha, iterations):\n",
    "    W1, b1, W2, b2 = init_params()\n",
    "    for i in range(iterations):\n",
    "        Z1, A1, Z2, A2 = forward_prop(W1, b1, W2, b2, X)\n",
    "        dW1, db1, dW2, db2 = backward_prop(Z1, A1, Z2, A2, W1, W2, X, Y)\n",
    "        W1, b1, W2, b2 = update_params(W1, b1, W2, b2, dW1, db1, dW2, db2, alpha)\n",
    "        if i % 10 == 0:\n",
    "            print(\"Iteration: \", i)\n",
    "            predictions = get_predictions(A2)\n",
    "            print(get_accuracy(predictions, Y))\n",
    "    return W1, b1, W2, b2"
   ]
  },
  {
   "cell_type": "code",
   "execution_count": 88,
   "metadata": {},
   "outputs": [
    {
     "name": "stdout",
     "output_type": "stream",
     "text": [
      "Iteration:  0\n",
      "[4 6 4 ... 6 9 4] [1 3 2 ... 1 7 6]\n",
      "0.07353658536585365\n",
      "Iteration:  10\n",
      "[5 6 3 ... 5 9 0] [1 3 2 ... 1 7 6]\n",
      "0.19439024390243903\n",
      "Iteration:  20\n",
      "[9 6 3 ... 5 9 0] [1 3 2 ... 1 7 6]\n",
      "0.28385365853658534\n",
      "Iteration:  30\n",
      "[9 6 3 ... 5 9 0] [1 3 2 ... 1 7 6]\n",
      "0.3580731707317073\n",
      "Iteration:  40\n",
      "[9 3 3 ... 5 9 0] [1 3 2 ... 1 7 6]\n",
      "0.43541463414634146\n",
      "Iteration:  50\n",
      "[9 3 3 ... 1 9 0] [1 3 2 ... 1 7 6]\n",
      "0.5069756097560976\n",
      "Iteration:  60\n",
      "[1 3 0 ... 1 9 6] [1 3 2 ... 1 7 6]\n",
      "0.5668048780487804\n",
      "Iteration:  70\n",
      "[1 3 0 ... 1 9 6] [1 3 2 ... 1 7 6]\n",
      "0.6158292682926829\n",
      "Iteration:  80\n",
      "[1 3 0 ... 1 7 6] [1 3 2 ... 1 7 6]\n",
      "0.6525365853658537\n",
      "Iteration:  90\n",
      "[1 3 0 ... 1 7 6] [1 3 2 ... 1 7 6]\n",
      "0.6802439024390244\n",
      "Iteration:  100\n",
      "[1 3 0 ... 1 7 6] [1 3 2 ... 1 7 6]\n",
      "0.7021463414634146\n",
      "Iteration:  110\n",
      "[1 3 0 ... 1 7 6] [1 3 2 ... 1 7 6]\n",
      "0.7201951219512195\n",
      "Iteration:  120\n",
      "[1 3 0 ... 1 7 6] [1 3 2 ... 1 7 6]\n",
      "0.7343170731707317\n",
      "Iteration:  130\n",
      "[1 3 0 ... 1 7 6] [1 3 2 ... 1 7 6]\n",
      "0.746390243902439\n",
      "Iteration:  140\n",
      "[1 3 0 ... 1 7 6] [1 3 2 ... 1 7 6]\n",
      "0.7580975609756098\n",
      "Iteration:  150\n",
      "[1 3 0 ... 1 7 6] [1 3 2 ... 1 7 6]\n",
      "0.767609756097561\n",
      "Iteration:  160\n",
      "[1 3 0 ... 1 7 6] [1 3 2 ... 1 7 6]\n",
      "0.7764634146341464\n",
      "Iteration:  170\n",
      "[1 3 0 ... 1 7 6] [1 3 2 ... 1 7 6]\n",
      "0.7842682926829269\n",
      "Iteration:  180\n",
      "[1 3 0 ... 1 7 6] [1 3 2 ... 1 7 6]\n",
      "0.7909756097560976\n",
      "Iteration:  190\n",
      "[1 3 0 ... 1 7 6] [1 3 2 ... 1 7 6]\n",
      "0.7971707317073171\n",
      "Iteration:  200\n",
      "[1 3 0 ... 1 7 6] [1 3 2 ... 1 7 6]\n",
      "0.8021951219512196\n",
      "Iteration:  210\n",
      "[1 3 0 ... 1 7 6] [1 3 2 ... 1 7 6]\n",
      "0.8073170731707318\n",
      "Iteration:  220\n",
      "[1 3 0 ... 1 7 6] [1 3 2 ... 1 7 6]\n",
      "0.8117073170731708\n",
      "Iteration:  230\n",
      "[1 3 0 ... 1 7 6] [1 3 2 ... 1 7 6]\n",
      "0.8155853658536585\n",
      "Iteration:  240\n",
      "[1 3 0 ... 1 7 6] [1 3 2 ... 1 7 6]\n",
      "0.8189512195121951\n",
      "Iteration:  250\n",
      "[1 3 2 ... 1 7 6] [1 3 2 ... 1 7 6]\n",
      "0.8222926829268292\n",
      "Iteration:  260\n",
      "[1 3 2 ... 1 7 6] [1 3 2 ... 1 7 6]\n",
      "0.8248536585365853\n",
      "Iteration:  270\n",
      "[1 3 2 ... 1 7 6] [1 3 2 ... 1 7 6]\n",
      "0.8279268292682926\n",
      "Iteration:  280\n",
      "[1 3 2 ... 1 7 6] [1 3 2 ... 1 7 6]\n",
      "0.8304390243902439\n",
      "Iteration:  290\n",
      "[1 3 2 ... 1 7 6] [1 3 2 ... 1 7 6]\n",
      "0.8326341463414634\n",
      "Iteration:  300\n",
      "[1 3 2 ... 1 7 6] [1 3 2 ... 1 7 6]\n",
      "0.8351219512195122\n",
      "Iteration:  310\n",
      "[1 3 2 ... 1 7 6] [1 3 2 ... 1 7 6]\n",
      "0.8369268292682926\n",
      "Iteration:  320\n",
      "[1 3 2 ... 1 7 6] [1 3 2 ... 1 7 6]\n",
      "0.8388780487804878\n",
      "Iteration:  330\n",
      "[1 3 2 ... 1 7 6] [1 3 2 ... 1 7 6]\n",
      "0.841\n",
      "Iteration:  340\n",
      "[1 3 2 ... 1 7 6] [1 3 2 ... 1 7 6]\n",
      "0.842780487804878\n",
      "Iteration:  350\n",
      "[1 3 2 ... 1 7 6] [1 3 2 ... 1 7 6]\n",
      "0.8446829268292683\n",
      "Iteration:  360\n",
      "[1 3 2 ... 1 7 6] [1 3 2 ... 1 7 6]\n",
      "0.8464390243902439\n",
      "Iteration:  370\n",
      "[1 3 2 ... 1 7 6] [1 3 2 ... 1 7 6]\n",
      "0.8477317073170731\n",
      "Iteration:  380\n",
      "[1 3 2 ... 1 7 6] [1 3 2 ... 1 7 6]\n",
      "0.8491463414634146\n",
      "Iteration:  390\n",
      "[1 3 2 ... 1 7 6] [1 3 2 ... 1 7 6]\n",
      "0.8506829268292683\n",
      "Iteration:  400\n",
      "[1 3 2 ... 1 7 6] [1 3 2 ... 1 7 6]\n",
      "0.8522195121951219\n",
      "Iteration:  410\n",
      "[1 3 2 ... 1 7 6] [1 3 2 ... 1 7 6]\n",
      "0.8533658536585366\n",
      "Iteration:  420\n",
      "[1 3 2 ... 1 7 6] [1 3 2 ... 1 7 6]\n",
      "0.8547560975609756\n",
      "Iteration:  430\n",
      "[1 3 2 ... 1 7 6] [1 3 2 ... 1 7 6]\n",
      "0.8557560975609756\n",
      "Iteration:  440\n",
      "[1 3 2 ... 1 7 6] [1 3 2 ... 1 7 6]\n",
      "0.8569268292682927\n",
      "Iteration:  450\n",
      "[1 3 2 ... 1 7 6] [1 3 2 ... 1 7 6]\n",
      "0.8578292682926829\n",
      "Iteration:  460\n",
      "[1 3 2 ... 1 7 6] [1 3 2 ... 1 7 6]\n",
      "0.8589756097560975\n",
      "Iteration:  470\n",
      "[1 3 2 ... 1 7 6] [1 3 2 ... 1 7 6]\n",
      "0.8596585365853658\n",
      "Iteration:  480\n",
      "[1 3 2 ... 1 7 6] [1 3 2 ... 1 7 6]\n",
      "0.8603658536585366\n",
      "Iteration:  490\n",
      "[1 3 2 ... 1 7 6] [1 3 2 ... 1 7 6]\n",
      "0.861390243902439\n"
     ]
    }
   ],
   "source": [
    "W1, b1, W2, b2 = gradient_descent(X_train, Y_train, 0.10, 500)"
   ]
  },
  {
   "cell_type": "code",
   "execution_count": 89,
   "metadata": {},
   "outputs": [],
   "source": [
    "def make_predictions(X, W1, b1, W2, b2):\n",
    "    _, _, _, A2 = forward_prop(W1, b1, W2, b2, X)\n",
    "    predictions = get_predictions(A2)\n",
    "    return predictions\n",
    "\n",
    "def test_prediction(index, W1, b1, W2, b2):\n",
    "    current_image = X_train[:, index, None]\n",
    "    prediction = make_predictions(X_train[:, index, None], W1, b1, W2, b2)\n",
    "    label = Y_train[index]\n",
    "    print(\"Prediction: \", prediction)\n",
    "    print(\"Label: \", label)\n",
    "    \n",
    "    current_image = current_image.reshape((28, 28)) * 255\n",
    "    plt.gray()\n",
    "    plt.imshow(current_image, interpolation='nearest')\n",
    "    plt.show()"
   ]
  },
  {
   "cell_type": "code",
   "execution_count": 90,
   "metadata": {},
   "outputs": [
    {
     "name": "stdout",
     "output_type": "stream",
     "text": [
      "Prediction:  [1]\n",
      "Label:  1\n"
     ]
    },
    {
     "data": {
      "image/png": "[encoded data removed]",
      "text/plain": [
       "<Figure size 640x480 with 1 Axes>"
      ]
     },
     "metadata": {},
     "output_type": "display_data"
    },
    {
     "name": "stdout",
     "output_type": "stream",
     "text": [
      "Prediction:  [3]\n",
      "Label:  3\n"
     ]
    },
    {
     "data": {
      "image/png": "[encoded data removed]",
      "text/plain": [
       "<Figure size 640x480 with 1 Axes>"
      ]
     },
     "metadata": {},
     "output_type": "display_data"
    },
    {
     "name": "stdout",
     "output_type": "stream",
     "text": [
      "Prediction:  [2]\n",
      "Label:  2\n"
     ]
    },
    {
     "data": {
      "image/png": "[encoded data removed]",
      "text/plain": [
       "<Figure size 640x480 with 1 Axes>"
      ]
     },
     "metadata": {},
     "output_type": "display_data"
    },
    {
     "name": "stdout",
     "output_type": "stream",
     "text": [
      "Prediction:  [9]\n",
      "Label:  4\n"
     ]
    },
    {
     "data": {
      "image/png": "[encoded data removed]",
      "text/plain": [
       "<Figure size 640x480 with 1 Axes>"
      ]
     },
     "metadata": {},
     "output_type": "display_data"
    }
   ],
   "source": [
    "test_prediction(0, W1, b1, W2, b2)\n",
    "test_prediction(1, W1, b1, W2, b2)\n",
    "test_prediction(2, W1, b1, W2, b2)\n",
    "test_prediction(3, W1, b1, W2, b2)"
   ]
  },
  {
   "cell_type": "code",
   "execution_count": 91,
   "metadata": {},
   "outputs": [
    {
     "name": "stdout",
     "output_type": "stream",
     "text": [
      "[0 4 8 8 8 4 2 4 4 8 5 0 6 0 9 1 3 5 0 9 3 9 8 5 7 5 0 0 5 0 7 2 7 0 2 2 4\n",
      " 1 6 1 3 6 1 9 2 1 3 7 7 8 3 9 4 8 6 6 2 6 7 0 6 5 9 4 5 7 4 8 2 7 5 3 8 3\n",
      " 0 4 7 7 6 7 8 6 6 3 3 7 6 5 1 7 2 0 1 4 2 8 6 0 9 0 1 7 4 7 8 4 9 5 8 6 9\n",
      " 1 5 0 2 2 0 1 1 6 6 0 8 1 2 2 0 6 9 9 9 7 9 2 0 3 4 0 9 8 9 0 8 6 6 6 4 3\n",
      " 7 3 8 5 3 2 2 8 4 1 6 0 7 1 3 7 0 0 0 7 1 5 4 3 3 7 0 4 7 9 1 7 2 8 1 1 8\n",
      " 8 9 4 6 1 3 2 6 5 0 0 5 9 6 9 9 2 7 9 6 7 4 5 9 7 2 2 1 4 9 4 1 9 6 4 7 5\n",
      " 0 3 6 5 4 7 9 3 9 8 8 9 1 9 0 7 7 9 8 8 3 4 2 3 0 9 7 9 0 4 6 6 0 3 0 2 1\n",
      " 7 5 0 1 1 8 7 0 5 3 7 7 4 9 7 8 3 1 4 0 7 6 7 4 4 7 0 8 1 8 9 6 3 3 6 7 9\n",
      " 5 7 1 9 6 2 0 9 6 9 5 0 1 7 8 3 5 5 0 9 6 6 4 9 3 4 7 9 1 9 7 0 4 1 6 9 2\n",
      " 4 8 0 5 4 4 1 2 7 2 9 2 4 2 7 5 0 7 3 6 3 0 7 8 6 3 5 2 0 0 6 4 9 0 1 6 5\n",
      " 7 9 0 7 8 3 9 1 5 8 0 2 4 4 8 0 3 2 1 2 5 4 5 1 8 6 5 2 6 7 0 1 9 2 0 7 2\n",
      " 0 6 3 8 3 6 4 0 1 5 5 5 4 7 8 2 1 7 7 4 2 6 7 6 8 1 0 0 6 3 0 2 8 2 3 0 1\n",
      " 0 7 2 4 5 9 2 0 9 4 1 2 6 1 3 0 9 2 7 7 5 8 9 6 6 5 9 0 7 9 5 4 0 6 1 7 6\n",
      " 7 2 3 5 6 7 8 5 3 2 5 7 3 3 4 0 5 2 4 1 9 1 3 6 1 5 6 0 8 2 3 7 6 1 2 0 3\n",
      " 5 0 1 0 1 3 3 1 0 5 4 4 4 7 5 2 6 3 9 2 2 6 0 1 3 3 9 9 4 2 6 7 9 7 0 7 8\n",
      " 2 5 0 9 7 3 3 5 6 0 1 9 1 5 2 1 7 3 1 4 8 3 0 0 0 1 7 0 2 3 0 3 1 9 8 1 2\n",
      " 0 1 3 3 8 2 2 8 9 8 3 1 7 9 5 9 1 0 1 6 9 4 7 8 2 6 6 2 0 5 4 3 1 0 3 6 1\n",
      " 3 5 7 6 2 4 9 9 2 1 1 7 1 6 2 9 4 2 0 1 5 1 9 1 0 3 4 5 5 8 8 7 0 6 6 8 4\n",
      " 2 2 3 0 1 1 6 2 5 0 0 9 9 7 0 4 9 0 7 5 4 4 2 9 9 5 3 1 5 0 8 0 6 8 0 3 1\n",
      " 0 8 6 3 9 7 2 8 8 7 4 6 7 1 8 0 7 1 1 7 0 0 3 4 7 1 1 3 8 4 8 7 7 6 7 6 9\n",
      " 5 7 8 8 0 6 7 8 1 1 6 1 3 0 7 3 8 5 8 1 1 6 4 4 7 8 0 3 9 7 4 1 1 9 3 4 5\n",
      " 4 3 3 7 6 6 8 1 9 6 6 3 9 5 3 2 2 6 0 0 2 7 3 6 8 8 0 9 1 0 9 8 7 3 0 3 7\n",
      " 4 5 7 4 3 8 9 9 9 2 6 9 2 2 9 9 8 6 7 5 6 9 2 5 4 3 2 3 4 4 3 3 8 1 2 5 9\n",
      " 1 1 1 4 0 9 3 0 4 1 5 3 3 0 4 7 8 2 4 1 5 2 6 9 3 8 3 5 0 1 4 0 9 9 6 0 7\n",
      " 6 1 1 2 5 7 3 5 6 0 4 0 6 0 3 4 0 8 8 4 3 6 7 8 1 5 7 9 6 1 4 2 1 1 1 9 5\n",
      " 3 9 8 5 7 4 4 4 1 0 3 3 0 7 2 8 7 3 4 9 1 1 9 3 6 8 6 1 4 6 5 1 8 3 0 9 0\n",
      " 8 8 5 0 1 1 6 3 7 7 0 9 2 8 7 8 2 4 9 7 4 6 0 8 8 6 6 6 4 7 2 8 7 3 6 6 8\n",
      " 3] [0 4 8 8 8 4 2 4 4 8 5 0 6 2 9 1 3 5 0 9 3 9 2 5 7 5 0 0 5 0 7 2 7 0 2 2 4\n",
      " 1 6 1 5 6 1 9 2 1 3 7 7 8 8 9 4 8 6 6 3 6 7 0 6 5 9 4 6 7 4 8 2 7 5 3 8 3\n",
      " 0 4 7 7 6 7 8 6 6 3 3 7 6 5 1 7 2 0 1 4 2 8 4 0 9 0 1 7 4 7 3 4 9 5 4 6 9\n",
      " 1 5 0 2 2 0 1 1 6 6 0 8 1 2 2 0 6 9 9 9 7 9 2 0 3 4 0 9 8 9 0 5 6 6 6 4 4\n",
      " 9 3 8 5 3 8 2 8 4 1 6 0 7 1 3 7 0 0 0 7 1 5 4 3 3 7 0 4 7 9 1 9 2 8 1 1 8\n",
      " 8 9 4 6 4 3 2 6 5 0 0 3 9 6 9 9 2 7 4 6 7 9 5 9 2 2 2 1 4 9 4 1 9 6 4 7 5\n",
      " 0 8 6 5 4 7 9 3 9 8 8 7 1 9 0 7 7 4 8 3 3 4 2 3 5 7 7 9 0 4 6 6 0 3 0 2 8\n",
      " 7 5 0 1 1 8 7 0 5 2 7 7 4 7 7 5 3 1 4 0 7 4 7 4 4 2 9 8 1 8 9 6 3 3 6 7 9\n",
      " 5 7 6 9 6 2 0 9 6 9 5 0 1 7 8 3 3 5 0 9 2 4 4 9 3 4 7 9 1 4 7 0 4 1 6 9 1\n",
      " 4 8 5 5 4 4 1 2 7 2 9 2 4 2 7 5 0 7 3 6 3 0 7 8 6 3 5 2 0 0 6 4 9 0 2 6 5\n",
      " 7 9 0 7 8 3 9 1 5 3 2 2 4 4 8 0 3 2 1 2 5 8 5 1 8 6 5 2 6 7 0 1 9 2 0 7 2\n",
      " 0 6 3 5 3 6 4 0 1 5 5 5 4 7 8 2 1 7 4 4 2 6 7 6 8 1 0 0 6 7 5 2 8 8 8 0 1\n",
      " 0 7 0 4 6 9 2 0 9 4 1 2 6 1 3 0 9 6 7 7 5 8 9 2 3 5 9 0 7 9 5 4 0 6 1 7 6\n",
      " 7 2 3 5 6 7 8 8 3 2 5 7 3 3 4 0 5 2 4 1 9 1 3 6 1 8 6 0 8 2 3 7 6 1 2 0 3\n",
      " 5 0 1 0 1 3 3 1 0 5 4 4 7 7 8 2 8 3 9 2 2 6 0 1 3 5 9 9 4 2 6 9 9 7 0 7 8\n",
      " 2 5 0 9 7 3 3 5 6 0 1 4 1 5 2 1 7 9 1 4 8 3 0 3 0 1 7 2 2 3 0 3 1 9 8 2 5\n",
      " 0 1 3 3 3 2 3 8 9 8 3 1 7 7 5 9 1 0 1 6 9 4 7 8 2 6 6 2 0 5 4 3 1 0 3 6 1\n",
      " 2 5 7 6 2 4 9 7 6 1 1 7 1 6 5 9 4 2 0 1 5 1 9 1 0 3 4 5 5 8 8 7 6 6 6 8 7\n",
      " 2 2 3 0 1 1 6 2 5 0 0 4 9 7 0 6 9 0 7 3 4 4 3 9 4 5 3 1 5 0 8 0 6 8 0 5 1\n",
      " 5 8 6 3 8 7 2 8 8 7 4 6 7 1 8 0 7 1 1 7 6 0 3 4 7 1 1 3 8 4 8 7 7 6 7 6 4\n",
      " 5 7 5 8 0 5 7 8 1 9 6 1 3 0 7 3 1 5 8 1 1 6 4 4 7 8 5 3 9 7 7 8 1 9 5 4 5\n",
      " 4 3 3 7 6 6 8 1 9 6 6 3 9 8 3 2 2 6 0 0 2 7 3 6 8 8 6 9 1 0 9 8 1 5 0 3 5\n",
      " 4 5 7 2 3 8 4 7 4 2 6 9 2 2 9 7 3 6 7 3 6 9 2 5 4 3 2 3 4 4 7 3 8 1 2 5 5\n",
      " 1 1 1 4 0 9 3 0 4 4 5 3 3 0 4 7 8 2 4 1 5 2 6 7 3 8 8 5 0 1 4 0 9 4 6 0 2\n",
      " 6 1 1 2 5 7 3 1 6 0 4 0 3 0 2 4 0 8 8 4 3 6 7 8 1 5 7 4 6 1 4 2 2 1 1 3 5\n",
      " 3 9 8 5 7 4 4 4 1 0 3 3 0 7 2 8 7 3 4 9 1 1 9 3 1 8 6 1 4 6 5 1 5 3 0 9 0\n",
      " 8 8 5 0 1 1 6 3 7 7 0 9 2 8 7 8 2 4 9 7 6 6 0 8 8 6 6 6 4 7 2 8 7 3 6 4 2\n",
      " 3]\n"
     ]
    },
    {
     "data": {
      "text/plain": [
       "0.876"
      ]
     },
     "execution_count": 91,
     "metadata": {},
     "output_type": "execute_result"
    }
   ],
   "source": [
    "dev_predictions = make_predictions(X_dev, W1, b1, W2, b2)\n",
    "get_accuracy(dev_predictions, Y_dev)"
   ]
  },
  {
   "cell_type": "code",
   "execution_count": null,
   "metadata": {},
   "outputs": [],
   "source": []
  }
 ],
 "metadata": {
  "kernelspec": {
   "display_name": "Python 3",
   "language": "python",
   "name": "python3"
  },
  "language_info": {
   "codemirror_mode": {
    "name": "ipython",
    "version": 3
   },
   "file_extension": ".py",
   "mimetype": "text/x-python",
   "name": "python",
   "nbconvert_exporter": "python",
   "pygments_lexer": "ipython3",
   "version": "3.12.3"
  }
 },
 "nbformat": 4,
 "nbformat_minor": 2
}
